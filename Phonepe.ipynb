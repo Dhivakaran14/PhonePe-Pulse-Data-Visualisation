{
 "cells": [
  {
   "cell_type": "code",
   "execution_count": 4,
   "id": "237992f2",
   "metadata": {},
   "outputs": [],
   "source": [
    "import pandas as pd\n",
    "#!pip install mysql.connector\n",
    "import mysql.connector as sql\n",
    "#!pip install streamlit\n",
    "import streamlit as st\n",
    "#!pip install streamlit_option_menu\n",
    "import plotly.express as px\n",
    "import os\n",
    "import json\n",
    "from streamlit_option_menu import option_menu\n",
    "from PIL import Image\n",
    "import os\n",
    "#!pip install GitPython\n",
    "import git\n",
    "from git import Repo\n",
    "import pandas as pd\n",
    "import csv"
   ]
  },
  {
   "cell_type": "code",
   "execution_count": 5,
   "id": "13db61d8",
   "metadata": {},
   "outputs": [
    {
     "name": "stdout",
     "output_type": "stream",
     "text": [
      "git version 2.42.0.windows.2\n"
     ]
    }
   ],
   "source": [
    "!git --version"
   ]
  },
  {
   "cell_type": "code",
   "execution_count": 6,
   "id": "346a2647",
   "metadata": {},
   "outputs": [],
   "source": [
    "import os\n",
    "from git.repo.base import Repo\n",
    "\n",
    "# Cloning Data from GitHub\n",
    "def clone():\n",
    "\n",
    "    repo_url = \"https://github.com/PhonePe/pulse.git\"  # URL of the repository to be cloned\n",
    "    clone_path = r\"C:\\Users\\Dhivakaran\\Phonepe_Project\"  # Path where the repository will be stored\n",
    "\n",
    "    if not os.path.exists(clone_path):\n",
    "        os.makedirs(clone_path)\n",
    "\n",
    "    Repo.clone_from(repo_url, clone_path)\n",
    "\n",
    "# Calling the function to clone the repository\n",
    "clone()"
   ]
  },
  {
   "cell_type": "code",
   "execution_count": 7,
   "id": "e0a9d146",
   "metadata": {},
   "outputs": [],
   "source": [
    "path1 = \"C:/Users/Dhivakaran/Phonepe_Project/data/aggregated/transaction/country/india/state/\"\n",
    "agg_trans_list = os.listdir(path1)\n",
    "\n",
    "columns1 = {'State': [], 'Year': [], 'Quarter': [], 'Transaction_type': [], 'Transaction_count': [],\n",
    "            'Transaction_amount': []}\n",
    "for state in agg_trans_list:\n",
    "    cur_state = path1 + state + \"/\"\n",
    "    agg_year_list = os.listdir(cur_state)\n",
    "\n",
    "    for year in agg_year_list:\n",
    "        cur_year = cur_state + year + \"/\"\n",
    "        agg_file_list = os.listdir(cur_year)\n",
    "\n",
    "        for file in agg_file_list:\n",
    "            cur_file = cur_year + file\n",
    "            data = open(cur_file, 'r')\n",
    "            A = json.load(data)\n",
    "\n",
    "            for i in A['data']['transactionData']:\n",
    "                name = i['name']\n",
    "                count = i['paymentInstruments'][0]['count']\n",
    "                amount = i['paymentInstruments'][0]['amount']\n",
    "                columns1['Transaction_type'].append(name)\n",
    "                columns1['Transaction_count'].append(count)\n",
    "                columns1['Transaction_amount'].append(amount)\n",
    "                columns1['State'].append(state)\n",
    "                columns1['Year'].append(year)\n",
    "                columns1['Quarter'].append(int(file.strip('.json')))\n",
    "\n",
    "df_agg_trans = pd.DataFrame(columns1)"
   ]
  },
  {
   "cell_type": "code",
   "execution_count": 8,
   "id": "53f5fae1",
   "metadata": {},
   "outputs": [
    {
     "data": {
      "text/plain": [
       "(3954, 6)"
      ]
     },
     "execution_count": 8,
     "metadata": {},
     "output_type": "execute_result"
    }
   ],
   "source": [
    "df_agg_trans.shape"
   ]
  },
  {
   "cell_type": "code",
   "execution_count": 11,
   "id": "1959f2dc",
   "metadata": {},
   "outputs": [],
   "source": [
    "path2 = \"C:/Users/Dhivakaran/Phonepe_Project/data/aggregated/user/country/india/state/\"\n",
    "\n",
    "agg_user_list = os.listdir(path2)\n",
    "\n",
    "columns2 = {'State': [], 'Year': [], 'Quarter': [], 'Brands': [], 'Count': [],\n",
    "            'Percentage': []}\n",
    "for state in agg_user_list:\n",
    "    cur_state = path2 + state + \"/\"\n",
    "    agg_year_list = os.listdir(cur_state)\n",
    "    \n",
    "    for year in agg_year_list:\n",
    "        cur_year = cur_state + year + \"/\"\n",
    "        agg_file_list = os.listdir(cur_year)\n",
    "\n",
    "        for file in agg_file_list:\n",
    "            cur_file = cur_year + file\n",
    "            data = open(cur_file, 'r')\n",
    "            B = json.load(data)\n",
    "            try:\n",
    "                for i in B[\"data\"][\"usersByDevice\"]:\n",
    "                    brand_name = i[\"brand\"]\n",
    "                    counts = i[\"count\"]\n",
    "                    percents = i[\"percentage\"]\n",
    "                    columns2[\"Brands\"].append(brand_name)\n",
    "                    columns2[\"Count\"].append(counts)\n",
    "                    columns2[\"Percentage\"].append(percents)\n",
    "                    columns2[\"State\"].append(state)\n",
    "                    columns2[\"Year\"].append(year)\n",
    "                    columns2[\"Quarter\"].append(int(file.strip('.json')))\n",
    "            except:\n",
    "                pass\n",
    "df_agg_user = pd.DataFrame(columns2)"
   ]
  },
  {
   "cell_type": "code",
   "execution_count": 12,
   "id": "c0a20ae5",
   "metadata": {},
   "outputs": [
    {
     "data": {
      "text/html": [
       "<div>\n",
       "<style scoped>\n",
       "    .dataframe tbody tr th:only-of-type {\n",
       "        vertical-align: middle;\n",
       "    }\n",
       "\n",
       "    .dataframe tbody tr th {\n",
       "        vertical-align: top;\n",
       "    }\n",
       "\n",
       "    .dataframe thead th {\n",
       "        text-align: right;\n",
       "    }\n",
       "</style>\n",
       "<table border=\"1\" class=\"dataframe\">\n",
       "  <thead>\n",
       "    <tr style=\"text-align: right;\">\n",
       "      <th></th>\n",
       "      <th>State</th>\n",
       "      <th>Year</th>\n",
       "      <th>Quarter</th>\n",
       "      <th>Brands</th>\n",
       "      <th>Count</th>\n",
       "      <th>Percentage</th>\n",
       "    </tr>\n",
       "  </thead>\n",
       "  <tbody>\n",
       "    <tr>\n",
       "      <th>6727</th>\n",
       "      <td>west-bengal</td>\n",
       "      <td>2022</td>\n",
       "      <td>1</td>\n",
       "      <td>Lenovo</td>\n",
       "      <td>330017</td>\n",
       "      <td>0.015056</td>\n",
       "    </tr>\n",
       "    <tr>\n",
       "      <th>6728</th>\n",
       "      <td>west-bengal</td>\n",
       "      <td>2022</td>\n",
       "      <td>1</td>\n",
       "      <td>Infinix</td>\n",
       "      <td>284678</td>\n",
       "      <td>0.012987</td>\n",
       "    </tr>\n",
       "    <tr>\n",
       "      <th>6729</th>\n",
       "      <td>west-bengal</td>\n",
       "      <td>2022</td>\n",
       "      <td>1</td>\n",
       "      <td>Asus</td>\n",
       "      <td>280347</td>\n",
       "      <td>0.012790</td>\n",
       "    </tr>\n",
       "    <tr>\n",
       "      <th>6730</th>\n",
       "      <td>west-bengal</td>\n",
       "      <td>2022</td>\n",
       "      <td>1</td>\n",
       "      <td>Apple</td>\n",
       "      <td>277752</td>\n",
       "      <td>0.012671</td>\n",
       "    </tr>\n",
       "    <tr>\n",
       "      <th>6731</th>\n",
       "      <td>west-bengal</td>\n",
       "      <td>2022</td>\n",
       "      <td>1</td>\n",
       "      <td>Others</td>\n",
       "      <td>2196334</td>\n",
       "      <td>0.100199</td>\n",
       "    </tr>\n",
       "  </tbody>\n",
       "</table>\n",
       "</div>"
      ],
      "text/plain": [
       "            State  Year  Quarter   Brands    Count  Percentage\n",
       "6727  west-bengal  2022        1   Lenovo   330017    0.015056\n",
       "6728  west-bengal  2022        1  Infinix   284678    0.012987\n",
       "6729  west-bengal  2022        1     Asus   280347    0.012790\n",
       "6730  west-bengal  2022        1    Apple   277752    0.012671\n",
       "6731  west-bengal  2022        1   Others  2196334    0.100199"
      ]
     },
     "execution_count": 12,
     "metadata": {},
     "output_type": "execute_result"
    }
   ],
   "source": [
    "df_agg_user.tail()"
   ]
  },
  {
   "cell_type": "code",
   "execution_count": 13,
   "id": "61c4681f",
   "metadata": {},
   "outputs": [
    {
     "data": {
      "text/plain": [
       "(6732, 6)"
      ]
     },
     "execution_count": 13,
     "metadata": {},
     "output_type": "execute_result"
    }
   ],
   "source": [
    "df_agg_user.shape"
   ]
  },
  {
   "cell_type": "code",
   "execution_count": 14,
   "id": "850df2a4",
   "metadata": {},
   "outputs": [],
   "source": [
    "path3 = \"C:/Users/Dhivakaran/Phonepe_Project/data/map/transaction/hover/country/india/state/\"\n",
    "\n",
    "map_trans_list = os.listdir(path3)\n",
    "\n",
    "columns3 = {'State': [], 'Year': [], 'Quarter': [], 'District': [], 'Count': [],\n",
    "            'Amount': []}\n",
    "\n",
    "for state in map_trans_list:\n",
    "    cur_state = path3 + state + \"/\"\n",
    "    map_year_list = os.listdir(cur_state)\n",
    "    \n",
    "    for year in map_year_list:\n",
    "        cur_year = cur_state + year + \"/\"\n",
    "        map_file_list = os.listdir(cur_year)\n",
    "        \n",
    "        for file in map_file_list:\n",
    "            cur_file = cur_year + file\n",
    "            data = open(cur_file, 'r')\n",
    "            C = json.load(data)\n",
    "            \n",
    "            for i in C[\"data\"][\"hoverDataList\"]:\n",
    "                district = i[\"name\"]\n",
    "                count = i[\"metric\"][0][\"count\"]\n",
    "                amount = i[\"metric\"][0][\"amount\"]\n",
    "                columns3[\"District\"].append(district)\n",
    "                columns3[\"Count\"].append(count)\n",
    "                columns3[\"Amount\"].append(amount)\n",
    "                columns3['State'].append(state)\n",
    "                columns3['Year'].append(year)\n",
    "                columns3['Quarter'].append(int(file.strip('.json')))\n",
    "                \n",
    "df_map_trans = pd.DataFrame(columns3)"
   ]
  },
  {
   "cell_type": "code",
   "execution_count": 15,
   "id": "ac1db731",
   "metadata": {},
   "outputs": [
    {
     "data": {
      "text/plain": [
       "(16100, 6)"
      ]
     },
     "execution_count": 15,
     "metadata": {},
     "output_type": "execute_result"
    }
   ],
   "source": [
    "df_map_trans.shape"
   ]
  },
  {
   "cell_type": "code",
   "execution_count": 16,
   "id": "ea10d3d6",
   "metadata": {},
   "outputs": [
    {
     "data": {
      "text/html": [
       "<div>\n",
       "<style scoped>\n",
       "    .dataframe tbody tr th:only-of-type {\n",
       "        vertical-align: middle;\n",
       "    }\n",
       "\n",
       "    .dataframe tbody tr th {\n",
       "        vertical-align: top;\n",
       "    }\n",
       "\n",
       "    .dataframe thead th {\n",
       "        text-align: right;\n",
       "    }\n",
       "</style>\n",
       "<table border=\"1\" class=\"dataframe\">\n",
       "  <thead>\n",
       "    <tr style=\"text-align: right;\">\n",
       "      <th></th>\n",
       "      <th>State</th>\n",
       "      <th>Year</th>\n",
       "      <th>Quarter</th>\n",
       "      <th>District</th>\n",
       "      <th>Count</th>\n",
       "      <th>Amount</th>\n",
       "    </tr>\n",
       "  </thead>\n",
       "  <tbody>\n",
       "    <tr>\n",
       "      <th>0</th>\n",
       "      <td>andaman-&amp;-nicobar-islands</td>\n",
       "      <td>2018</td>\n",
       "      <td>1</td>\n",
       "      <td>north and middle andaman district</td>\n",
       "      <td>442</td>\n",
       "      <td>9.316631e+05</td>\n",
       "    </tr>\n",
       "    <tr>\n",
       "      <th>1</th>\n",
       "      <td>andaman-&amp;-nicobar-islands</td>\n",
       "      <td>2018</td>\n",
       "      <td>1</td>\n",
       "      <td>south andaman district</td>\n",
       "      <td>5688</td>\n",
       "      <td>1.256025e+07</td>\n",
       "    </tr>\n",
       "    <tr>\n",
       "      <th>2</th>\n",
       "      <td>andaman-&amp;-nicobar-islands</td>\n",
       "      <td>2018</td>\n",
       "      <td>1</td>\n",
       "      <td>nicobars district</td>\n",
       "      <td>528</td>\n",
       "      <td>1.139849e+06</td>\n",
       "    </tr>\n",
       "    <tr>\n",
       "      <th>3</th>\n",
       "      <td>andaman-&amp;-nicobar-islands</td>\n",
       "      <td>2018</td>\n",
       "      <td>2</td>\n",
       "      <td>north and middle andaman district</td>\n",
       "      <td>825</td>\n",
       "      <td>1.317863e+06</td>\n",
       "    </tr>\n",
       "    <tr>\n",
       "      <th>4</th>\n",
       "      <td>andaman-&amp;-nicobar-islands</td>\n",
       "      <td>2018</td>\n",
       "      <td>2</td>\n",
       "      <td>south andaman district</td>\n",
       "      <td>9395</td>\n",
       "      <td>2.394824e+07</td>\n",
       "    </tr>\n",
       "    <tr>\n",
       "      <th>...</th>\n",
       "      <td>...</td>\n",
       "      <td>...</td>\n",
       "      <td>...</td>\n",
       "      <td>...</td>\n",
       "      <td>...</td>\n",
       "      <td>...</td>\n",
       "    </tr>\n",
       "    <tr>\n",
       "      <th>16095</th>\n",
       "      <td>west-bengal</td>\n",
       "      <td>2023</td>\n",
       "      <td>2</td>\n",
       "      <td>nadia district</td>\n",
       "      <td>26194658</td>\n",
       "      <td>5.410386e+10</td>\n",
       "    </tr>\n",
       "    <tr>\n",
       "      <th>16096</th>\n",
       "      <td>west-bengal</td>\n",
       "      <td>2023</td>\n",
       "      <td>2</td>\n",
       "      <td>birbhum district</td>\n",
       "      <td>14912523</td>\n",
       "      <td>2.941312e+10</td>\n",
       "    </tr>\n",
       "    <tr>\n",
       "      <th>16097</th>\n",
       "      <td>west-bengal</td>\n",
       "      <td>2023</td>\n",
       "      <td>2</td>\n",
       "      <td>purba medinipur district</td>\n",
       "      <td>30724502</td>\n",
       "      <td>6.595899e+10</td>\n",
       "    </tr>\n",
       "    <tr>\n",
       "      <th>16098</th>\n",
       "      <td>west-bengal</td>\n",
       "      <td>2023</td>\n",
       "      <td>2</td>\n",
       "      <td>maldah district</td>\n",
       "      <td>24677357</td>\n",
       "      <td>5.218621e+10</td>\n",
       "    </tr>\n",
       "    <tr>\n",
       "      <th>16099</th>\n",
       "      <td>west-bengal</td>\n",
       "      <td>2023</td>\n",
       "      <td>2</td>\n",
       "      <td>darjiling district</td>\n",
       "      <td>13049366</td>\n",
       "      <td>2.372866e+10</td>\n",
       "    </tr>\n",
       "  </tbody>\n",
       "</table>\n",
       "<p>16100 rows × 6 columns</p>\n",
       "</div>"
      ],
      "text/plain": [
       "                           State  Year  Quarter   \n",
       "0      andaman-&-nicobar-islands  2018        1  \\\n",
       "1      andaman-&-nicobar-islands  2018        1   \n",
       "2      andaman-&-nicobar-islands  2018        1   \n",
       "3      andaman-&-nicobar-islands  2018        2   \n",
       "4      andaman-&-nicobar-islands  2018        2   \n",
       "...                          ...   ...      ...   \n",
       "16095                west-bengal  2023        2   \n",
       "16096                west-bengal  2023        2   \n",
       "16097                west-bengal  2023        2   \n",
       "16098                west-bengal  2023        2   \n",
       "16099                west-bengal  2023        2   \n",
       "\n",
       "                                District     Count        Amount  \n",
       "0      north and middle andaman district       442  9.316631e+05  \n",
       "1                 south andaman district      5688  1.256025e+07  \n",
       "2                      nicobars district       528  1.139849e+06  \n",
       "3      north and middle andaman district       825  1.317863e+06  \n",
       "4                 south andaman district      9395  2.394824e+07  \n",
       "...                                  ...       ...           ...  \n",
       "16095                     nadia district  26194658  5.410386e+10  \n",
       "16096                   birbhum district  14912523  2.941312e+10  \n",
       "16097           purba medinipur district  30724502  6.595899e+10  \n",
       "16098                    maldah district  24677357  5.218621e+10  \n",
       "16099                 darjiling district  13049366  2.372866e+10  \n",
       "\n",
       "[16100 rows x 6 columns]"
      ]
     },
     "execution_count": 16,
     "metadata": {},
     "output_type": "execute_result"
    }
   ],
   "source": [
    "df_map_trans"
   ]
  },
  {
   "cell_type": "code",
   "execution_count": 17,
   "id": "bb3f320f",
   "metadata": {},
   "outputs": [],
   "source": [
    "path4 = \"C:/Users/Dhivakaran/Phonepe_Project/data/map/user/hover/country/india/state/\"\n",
    "\n",
    "map_user_list = os.listdir(path4)\n",
    "\n",
    "columns4 = {\"State\": [], \"Year\": [], \"Quarter\": [], \"District\": [],\n",
    "            \"RegisteredUser\": [], \"AppOpens\": []}\n",
    "\n",
    "for state in map_user_list:\n",
    "    cur_state = path4 + state + \"/\"\n",
    "    map_year_list = os.listdir(cur_state)\n",
    "    \n",
    "    for year in map_year_list:\n",
    "        cur_year = cur_state + year + \"/\"\n",
    "        map_file_list = os.listdir(cur_year)\n",
    "        \n",
    "        for file in map_file_list:\n",
    "            cur_file = cur_year + file\n",
    "            data = open(cur_file, 'r')\n",
    "            D = json.load(data)\n",
    "            \n",
    "            for i in D[\"data\"][\"hoverData\"].items():\n",
    "                district = i[0]\n",
    "                registereduser = i[1][\"registeredUsers\"]\n",
    "                appOpens = i[1]['appOpens']\n",
    "                columns4[\"District\"].append(district)\n",
    "                columns4[\"RegisteredUser\"].append(registereduser)\n",
    "                columns4[\"AppOpens\"].append(appOpens)\n",
    "                columns4['State'].append(state)\n",
    "                columns4['Year'].append(year)\n",
    "                columns4['Quarter'].append(int(file.strip('.json')))\n",
    "                \n",
    "df_map_user = pd.DataFrame(columns4)"
   ]
  },
  {
   "cell_type": "code",
   "execution_count": 18,
   "id": "e3fc3ba8",
   "metadata": {},
   "outputs": [
    {
     "data": {
      "text/plain": [
       "(16104, 6)"
      ]
     },
     "execution_count": 18,
     "metadata": {},
     "output_type": "execute_result"
    }
   ],
   "source": [
    "df_map_user.shape"
   ]
  },
  {
   "cell_type": "code",
   "execution_count": 19,
   "id": "e39cd36c",
   "metadata": {},
   "outputs": [],
   "source": [
    "path5 = \"C:/Users/Dhivakaran/Phonepe_Project/data/top/transaction/country/india/state/\"\n",
    "\n",
    "top_trans_list = os.listdir(path5)\n",
    "columns5 = {'State': [], 'Year': [], 'Quarter': [], 'Pincode': [], 'Transaction_count': [],\n",
    "            'Transaction_amount': []}\n",
    "\n",
    "for state in top_trans_list:\n",
    "    cur_state = path5 + state + \"/\"\n",
    "    top_year_list = os.listdir(cur_state)\n",
    "    \n",
    "    for year in top_year_list:\n",
    "        cur_year = cur_state + year + \"/\"\n",
    "        top_file_list = os.listdir(cur_year)\n",
    "        \n",
    "        for file in top_file_list:\n",
    "            cur_file = cur_year + file\n",
    "            data = open(cur_file, 'r')\n",
    "            E = json.load(data)\n",
    "            \n",
    "            for i in E['data']['pincodes']:\n",
    "                name = i['entityName']\n",
    "                count = i['metric']['count']\n",
    "                amount = i['metric']['amount']\n",
    "                columns5['Pincode'].append(name)\n",
    "                columns5['Transaction_count'].append(count)\n",
    "                columns5['Transaction_amount'].append(amount)\n",
    "                columns5['State'].append(state)\n",
    "                columns5['Year'].append(year)\n",
    "                columns5['Quarter'].append(int(file.strip('.json')))\n",
    "df_top_trans = pd.DataFrame(columns5)"
   ]
  },
  {
   "cell_type": "code",
   "execution_count": 20,
   "id": "c4ceaea6",
   "metadata": {},
   "outputs": [
    {
     "data": {
      "text/plain": [
       "(7853, 6)"
      ]
     },
     "execution_count": 20,
     "metadata": {},
     "output_type": "execute_result"
    }
   ],
   "source": [
    "df_top_trans.shape"
   ]
  },
  {
   "cell_type": "code",
   "execution_count": 21,
   "id": "77f66cdb",
   "metadata": {},
   "outputs": [],
   "source": [
    "path6 = \"C:/Users/Dhivakaran/Phonepe_Project/data/top/user/country/india/state/\"\n",
    "\n",
    "top_user_list = os.listdir(path6)\n",
    "columns6 = {'State': [], 'Year': [], 'Quarter': [], 'Pincode': [],\n",
    "            'RegisteredUsers': []}\n",
    "\n",
    "for state in top_user_list:\n",
    "    cur_state = path6 + state + \"/\"\n",
    "    top_year_list = os.listdir(cur_state)\n",
    "    \n",
    "    for year in top_year_list:\n",
    "        cur_year = cur_state + year + \"/\"\n",
    "        top_file_list = os.listdir(cur_year)\n",
    "        \n",
    "        for file in top_file_list:\n",
    "            cur_file = cur_year + file\n",
    "            data = open(cur_file, 'r')\n",
    "            F = json.load(data)\n",
    "            \n",
    "            for i in F['data']['pincodes']:\n",
    "                name = i['name']\n",
    "                registeredUsers = i['registeredUsers']\n",
    "                columns6['Pincode'].append(name)\n",
    "                columns6['RegisteredUsers'].append(registeredUsers)\n",
    "                columns6['State'].append(state)\n",
    "                columns6['Year'].append(year)\n",
    "                columns6['Quarter'].append(int(file.strip('.json')))\n",
    "df_top_user = pd.DataFrame(columns6)"
   ]
  },
  {
   "cell_type": "code",
   "execution_count": 22,
   "id": "4eb9c797",
   "metadata": {},
   "outputs": [
    {
     "data": {
      "text/plain": [
       "(7854, 5)"
      ]
     },
     "execution_count": 22,
     "metadata": {},
     "output_type": "execute_result"
    }
   ],
   "source": [
    "df_top_user.shape"
   ]
  },
  {
   "cell_type": "code",
   "execution_count": 23,
   "id": "31b46441",
   "metadata": {},
   "outputs": [],
   "source": [
    "df_agg_trans.to_csv('agg_trans.csv',index=False)\n",
    "df_agg_user.to_csv('agg_user.csv',index=False)\n",
    "df_map_trans.to_csv('map_trans.csv',index=False)\n",
    "df_map_user.to_csv('map_user.csv',index=False)\n",
    "df_top_trans.to_csv('top_trans.csv',index=False)\n",
    "df_top_user.to_csv('top_user.csv',index=False)"
   ]
  },
  {
   "cell_type": "code",
   "execution_count": 24,
   "id": "f835d80d",
   "metadata": {},
   "outputs": [],
   "source": [
    "import mysql.connector\n",
    "\n",
    "mydb = mysql.connector.connect(\n",
    "    host=\"localhost\",\n",
    "    user=\"root\",\n",
    "    password=\"123456\",\n",
    "    database=\"phonepe_pulse\"\n",
    ")\n",
    "mycursor = mydb.cursor(buffered=True)"
   ]
  },
  {
   "cell_type": "code",
   "execution_count": 25,
   "id": "8e82709a",
   "metadata": {},
   "outputs": [
    {
     "name": "stdout",
     "output_type": "stream",
     "text": [
      "<mysql.connector.connection_cext.CMySQLConnection object at 0x00000257BA5C2210>\n"
     ]
    }
   ],
   "source": [
    "print(mydb)"
   ]
  },
  {
   "cell_type": "code",
   "execution_count": 26,
   "id": "aaa5a07e",
   "metadata": {},
   "outputs": [],
   "source": [
    "#mycursor.execute('CREATE DATABASE phonepe_pulse')"
   ]
  },
  {
   "cell_type": "code",
   "execution_count": 29,
   "id": "e016fa9d",
   "metadata": {},
   "outputs": [],
   "source": [
    "mycursor.execute(\"create table agg_trans (State varchar(100), Year int, Quarter int, Transaction_type varchar(100), Transaction_count int, Transaction_amount double)\")\n",
    "\n",
    "for i,row in df_agg_trans.iterrows():\n",
    "    #here %S means string values \n",
    "    sql = \"INSERT INTO agg_trans VALUES (%s,%s,%s,%s,%s,%s)\"\n",
    "    mycursor.execute(sql, tuple(row))\n",
    "    # the connection is not auto committed by default, so we must commit to save our changes\n",
    "    mydb.commit()"
   ]
  },
  {
   "cell_type": "code",
   "execution_count": 30,
   "id": "d17fe06d",
   "metadata": {},
   "outputs": [],
   "source": [
    "mycursor.execute(\"create table agg_user (State varchar(100), Year int, Quarter int, Brands varchar(100), Count int, Percentage double)\")\n",
    "\n",
    "for i,row in df_agg_user.iterrows():\n",
    "    sql = \"INSERT INTO agg_user VALUES (%s,%s,%s,%s,%s,%s)\"\n",
    "    mycursor.execute(sql, tuple(row))\n",
    "    mydb.commit()"
   ]
  },
  {
   "cell_type": "code",
   "execution_count": 31,
   "id": "0de72dad",
   "metadata": {},
   "outputs": [],
   "source": [
    "mycursor.execute(\"create table map_trans (State varchar(100), Year int, Quarter int, District varchar(100), Count int, Amount double)\")\n",
    "\n",
    "for i,row in df_map_trans.iterrows():\n",
    "    sql = \"INSERT INTO map_trans VALUES (%s,%s,%s,%s,%s,%s)\"\n",
    "    mycursor.execute(sql, tuple(row))\n",
    "    mydb.commit()"
   ]
  },
  {
   "cell_type": "code",
   "execution_count": 32,
   "id": "5385c82e",
   "metadata": {},
   "outputs": [],
   "source": [
    "mycursor.execute(\"create table map_user (State varchar(100), Year int, Quarter int, District varchar(100), Registered_user int, App_opens int)\")\n",
    "\n",
    "for i,row in df_map_user.iterrows():\n",
    "    sql = \"INSERT INTO map_user VALUES (%s,%s,%s,%s,%s,%s)\"\n",
    "    mycursor.execute(sql, tuple(row))\n",
    "    mydb.commit()"
   ]
  },
  {
   "cell_type": "code",
   "execution_count": 33,
   "id": "8ea4ff1d",
   "metadata": {},
   "outputs": [],
   "source": [
    "mycursor.execute(\"create table top_trans (State varchar(100), Year int, Quarter int, Pincode int, Transaction_count int, Transaction_amount double)\")\n",
    "\n",
    "for i,row in df_top_trans.iterrows():\n",
    "    sql = \"INSERT INTO top_trans VALUES (%s,%s,%s,%s,%s,%s)\"\n",
    "    mycursor.execute(sql, tuple(row))\n",
    "    mydb.commit()"
   ]
  },
  {
   "cell_type": "code",
   "execution_count": 34,
   "id": "5d551a8e",
   "metadata": {},
   "outputs": [],
   "source": [
    "mycursor.execute(\"create table top_user (State varchar(100), Year int, Quarter int, Pincode int, Registered_users int)\")\n",
    "\n",
    "for i,row in df_top_user.iterrows():\n",
    "    sql = \"INSERT INTO top_user VALUES (%s,%s,%s,%s,%s)\"\n",
    "    mycursor.execute(sql, tuple(row))\n",
    "    mydb.commit()"
   ]
  },
  {
   "cell_type": "code",
   "execution_count": 35,
   "id": "c87c6fe7",
   "metadata": {},
   "outputs": [
    {
     "data": {
      "text/plain": [
       "[('agg_trans',),\n",
       " ('agg_user',),\n",
       " ('map_trans',),\n",
       " ('map_user',),\n",
       " ('top_trans',),\n",
       " ('top_user',)]"
      ]
     },
     "execution_count": 35,
     "metadata": {},
     "output_type": "execute_result"
    }
   ],
   "source": [
    "mycursor.execute(\"show tables\")\n",
    "mycursor.fetchall()"
   ]
  },
  {
   "cell_type": "code",
   "execution_count": null,
   "id": "55ee5662",
   "metadata": {},
   "outputs": [],
   "source": []
  }
 ],
 "metadata": {
  "kernelspec": {
   "display_name": "Python 3 (ipykernel)",
   "language": "python",
   "name": "python3"
  },
  "language_info": {
   "codemirror_mode": {
    "name": "ipython",
    "version": 3
   },
   "file_extension": ".py",
   "mimetype": "text/x-python",
   "name": "python",
   "nbconvert_exporter": "python",
   "pygments_lexer": "ipython3",
   "version": "3.11.2"
  }
 },
 "nbformat": 4,
 "nbformat_minor": 5
}
